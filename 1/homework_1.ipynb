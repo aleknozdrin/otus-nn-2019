{
 "cells": [
  {
   "cell_type": "code",
   "execution_count": 101,
   "metadata": {},
   "outputs": [],
   "source": [
    "import numpy as np\n",
    "import matplotlib.pyplot as plt\n",
    "\n",
    "import torch\n",
    "from torch import utils\n",
    "from torchvision import datasets, transforms"
   ]
  },
  {
   "cell_type": "code",
   "execution_count": 106,
   "metadata": {},
   "outputs": [],
   "source": [
    "path='./MNIST_data'"
   ]
  },
  {
   "cell_type": "code",
   "execution_count": 107,
   "metadata": {},
   "outputs": [],
   "source": [
    "train_data = datasets.MNIST(path, train=True, download=True, transform=None)"
   ]
  },
  {
   "cell_type": "code",
   "execution_count": 108,
   "metadata": {},
   "outputs": [],
   "source": [
    "# Достаем исходные данные, приводим к float, приводим к интервалу [0,1], получаем параметры\n",
    "\n",
    "train_data = train_data.data.type(torch.float32) / 255\n",
    "\n",
    "mean_diff = torch.mean(train_data)\n",
    "std_diff = torch.std(train_data)"
   ]
  },
  {
   "cell_type": "code",
   "execution_count": 109,
   "metadata": {},
   "outputs": [
    {
     "name": "stdout",
     "output_type": "stream",
     "text": [
      "tensor(-3.8137e-06)\n",
      "tensor(1.0000)\n"
     ]
    }
   ],
   "source": [
    "# Приводим к нормальному распределению, убеждаемся, что параметры верные\n",
    "\n",
    "train_data_norm = (train_data - mean_diff) / std_diff\n",
    "\n",
    "print(torch.mean(train_data_norm))\n",
    "print(torch.std(train_data_norm))"
   ]
  },
  {
   "cell_type": "code",
   "execution_count": 110,
   "metadata": {},
   "outputs": [],
   "source": [
    "# Теперь можем задать трансформ с нужными параметрами\n",
    "\n",
    "normal_transform = transforms.Compose([\n",
    "                transforms.ToTensor(),\n",
    "                transforms.Normalize((mean_diff,), (std_diff,)),\n",
    "           ])"
   ]
  },
  {
   "cell_type": "code",
   "execution_count": 111,
   "metadata": {},
   "outputs": [],
   "source": [
    "train_data = datasets.MNIST(path, train=True, download=True, transform=normal_transform)"
   ]
  }
 ],
 "metadata": {
  "kernelspec": {
   "display_name": "Python 3",
   "language": "python",
   "name": "python3"
  },
  "language_info": {
   "codemirror_mode": {
    "name": "ipython",
    "version": 3
   },
   "file_extension": ".py",
   "mimetype": "text/x-python",
   "name": "python",
   "nbconvert_exporter": "python",
   "pygments_lexer": "ipython3",
   "version": "3.6.8"
  }
 },
 "nbformat": 4,
 "nbformat_minor": 2
}
